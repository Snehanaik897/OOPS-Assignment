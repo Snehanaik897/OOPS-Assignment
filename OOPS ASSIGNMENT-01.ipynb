{
 "cells": [
  {
   "cell_type": "markdown",
   "metadata": {},
   "source": [
    "Create 2 Classes A and B,create method called test in Class A with different definition,create method called test in class B with different definitions. Inherit both the properties of A amd B in Class C ,\n",
    "through Class C, access both the objects class methods in Class C."
   ]
  },
  {
   "cell_type": "code",
   "execution_count": 2,
   "metadata": {},
   "outputs": [
    {
     "name": "stdout",
     "output_type": "stream",
     "text": [
      "Employee ID is: 100\n",
      "Employee Name is: Jennifer\n"
     ]
    }
   ],
   "source": [
    "class A:\n",
    "    def test(self,emp_id):\n",
    "        print(\"Employee ID is:\",emp_id)\n",
    "        \n",
    "class B:\n",
    "    def test(self,emp_name):\n",
    "        print(\"Employee Name is:\",emp_name)\n",
    "        \n",
    "class C(A,B):\n",
    "    def __init__(self,emp_id,emp_name):\n",
    "        A.test(self,emp_id)\n",
    "        B.test(self,emp_name)\n",
    "\n",
    "c2=C(100,\"Jennifer\")    \n",
    "\n",
    "    \n"
   ]
  },
  {
   "cell_type": "code",
   "execution_count": null,
   "metadata": {},
   "outputs": [],
   "source": []
  },
  {
   "cell_type": "code",
   "execution_count": null,
   "metadata": {},
   "outputs": [],
   "source": []
  }
 ],
 "metadata": {
  "kernelspec": {
   "display_name": "Python 3",
   "language": "python",
   "name": "python3"
  },
  "language_info": {
   "codemirror_mode": {
    "name": "ipython",
    "version": 3
   },
   "file_extension": ".py",
   "mimetype": "text/x-python",
   "name": "python",
   "nbconvert_exporter": "python",
   "pygments_lexer": "ipython3",
   "version": "3.7.4"
  }
 },
 "nbformat": 4,
 "nbformat_minor": 2
}
